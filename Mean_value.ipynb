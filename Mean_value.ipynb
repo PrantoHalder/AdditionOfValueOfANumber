{
  "nbformat": 4,
  "nbformat_minor": 0,
  "metadata": {
    "colab": {
      "provenance": [],
      "authorship_tag": "ABX9TyNo3WuhxozN6HRJNE2V4lwL",
      "include_colab_link": true
    },
    "kernelspec": {
      "name": "python3",
      "display_name": "Python 3"
    },
    "language_info": {
      "name": "python"
    }
  },
  "cells": [
    {
      "cell_type": "markdown",
      "metadata": {
        "id": "view-in-github",
        "colab_type": "text"
      },
      "source": [
        "<a href=\"https://colab.research.google.com/github/PrantoHalder/AdditionOfValueOfANumber/blob/main/Mean_value.ipynb\" target=\"_parent\"><img src=\"https://colab.research.google.com/assets/colab-badge.svg\" alt=\"Open In Colab\"/></a>"
      ]
    },
    {
      "cell_type": "code",
      "execution_count": 2,
      "metadata": {
        "id": "UUSaCOOT5fbV",
        "colab": {
          "base_uri": "https://localhost:8080/"
        },
        "outputId": "15ae3c6d-02e6-416f-dd2c-ad2dc6bfbd4e"
      },
      "outputs": [
        {
          "output_type": "stream",
          "name": "stdout",
          "text": [
            "the total value of speed 1167\n",
            "the mean value is  89.76923076923077\n"
          ]
        }
      ],
      "source": [
        "#calculation the Mean Value of a array\n",
        "speed = [99,86,87,88,111,86,103,87,94,78,77,85,86]\n",
        "result = 0\n",
        "for x in speed:\n",
        "  result = result + x\n",
        "print(\"the total value of speed\",result)\n",
        "#mean value\n",
        "MeanValue = result/len(speed)\n",
        "print(\"the mean value is \",MeanValue)"
      ]
    },
    {
      "cell_type": "code",
      "source": [
        "#calculating the mean value with library\n",
        "import numpy as np\n",
        "speed = [99,86,87,88,111,86,103,87,94,78,77,85,86,90]\n",
        "x = np.mean(speed)\n",
        "print(x)"
      ],
      "metadata": {
        "colab": {
          "base_uri": "https://localhost:8080/"
        },
        "id": "tsjtyLKwOPmZ",
        "outputId": "ff7e6f57-8953-4e5b-975d-a3c0327bed89"
      },
      "execution_count": 3,
      "outputs": [
        {
          "output_type": "stream",
          "name": "stdout",
          "text": [
            "89.78571428571429\n"
          ]
        }
      ]
    }
  ]
}